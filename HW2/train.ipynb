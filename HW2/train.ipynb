{
 "cells": [
  {
   "cell_type": "markdown",
   "metadata": {
    "id": "tJxJHruNLb7Y"
   },
   "source": [
    "<a href=\"https://colab.research.google.com/github/open-mmlab/mmdetection/blob/master/demo/MMDet_Tutorial.ipynb\" target=\"_parent\"><img src=\"https://colab.research.google.com/assets/colab-badge.svg\" alt=\"Open In Colab\"/></a>"
   ]
  },
  {
   "cell_type": "code",
   "execution_count": 1,
   "metadata": {
    "colab": {
     "base_uri": "https://localhost:8080/",
     "height": 1000
    },
    "id": "gkGnB9WyHSXB",
    "outputId": "65a2f2e8-12c1-490e-df08-f9087cf8f7f2"
   },
   "outputs": [
    {
     "name": "stdout",
     "output_type": "stream",
     "text": [
      "Requirement already satisfied: mmcv-full in /opt/conda/lib/python3.7/site-packages (1.3.17)\n",
      "Requirement already satisfied: Pillow in /opt/conda/lib/python3.7/site-packages (from mmcv-full) (8.4.0)\n",
      "Requirement already satisfied: pyyaml in /opt/conda/lib/python3.7/site-packages (from mmcv-full) (6.0)\n",
      "Requirement already satisfied: packaging in /opt/conda/lib/python3.7/site-packages (from mmcv-full) (21.0)\n",
      "Requirement already satisfied: numpy in /opt/conda/lib/python3.7/site-packages (from mmcv-full) (1.21.3)\n",
      "Requirement already satisfied: opencv-python>=3 in /opt/conda/lib/python3.7/site-packages (from mmcv-full) (4.5.4.58)\n",
      "Requirement already satisfied: addict in /opt/conda/lib/python3.7/site-packages (from mmcv-full) (2.4.0)\n",
      "Requirement already satisfied: yapf in /opt/conda/lib/python3.7/site-packages (from mmcv-full) (0.31.0)\n",
      "Requirement already satisfied: pyparsing>=2.0.2 in /opt/conda/lib/python3.7/site-packages (from packaging->mmcv-full) (3.0.3)\n",
      "Cloning into 'mmdetection'...\n",
      "remote: Enumerating objects: 21781, done.\u001b[K\n",
      "remote: Total 21781 (delta 0), reused 0 (delta 0), pack-reused 21781\u001b[K\n",
      "Receiving objects: 100% (21781/21781), 25.19 MiB | 9.86 MiB/s, done.\n",
      "Resolving deltas: 100% (15305/15305), done.\n",
      "/home/ueidarchen/Homework 2/mmdetection\n",
      "Obtaining file:///home/ueidarchen/Homework%202/mmdetection\n",
      "  Preparing metadata (setup.py) ... \u001b[?25ldone\n",
      "\u001b[?25hRequirement already satisfied: matplotlib in /opt/conda/lib/python3.7/site-packages (from mmdet==2.18.1) (3.4.3)\n",
      "Requirement already satisfied: numpy in /opt/conda/lib/python3.7/site-packages (from mmdet==2.18.1) (1.21.3)\n",
      "Requirement already satisfied: six in /opt/conda/lib/python3.7/site-packages (from mmdet==2.18.1) (1.16.0)\n",
      "Requirement already satisfied: terminaltables in /opt/conda/lib/python3.7/site-packages (from mmdet==2.18.1) (3.1.0)\n",
      "Requirement already satisfied: pycocotools in /opt/conda/lib/python3.7/site-packages (from mmdet==2.18.1) (2.0.2)\n",
      "Requirement already satisfied: pyparsing>=2.2.1 in /opt/conda/lib/python3.7/site-packages (from matplotlib->mmdet==2.18.1) (3.0.3)\n",
      "Requirement already satisfied: kiwisolver>=1.0.1 in /opt/conda/lib/python3.7/site-packages (from matplotlib->mmdet==2.18.1) (1.3.2)\n",
      "Requirement already satisfied: python-dateutil>=2.7 in /opt/conda/lib/python3.7/site-packages (from matplotlib->mmdet==2.18.1) (2.8.2)\n",
      "Requirement already satisfied: pillow>=6.2.0 in /opt/conda/lib/python3.7/site-packages (from matplotlib->mmdet==2.18.1) (8.4.0)\n",
      "Requirement already satisfied: cycler>=0.10 in /opt/conda/lib/python3.7/site-packages (from matplotlib->mmdet==2.18.1) (0.10.0)\n",
      "Requirement already satisfied: setuptools>=18.0 in /opt/conda/lib/python3.7/site-packages (from pycocotools->mmdet==2.18.1) (58.3.0)\n",
      "Requirement already satisfied: cython>=0.27.3 in /opt/conda/lib/python3.7/site-packages (from pycocotools->mmdet==2.18.1) (0.29.24)\n",
      "Installing collected packages: mmdet\n",
      "  Running setup.py develop for mmdet\n",
      "Successfully installed mmdet-2.18.1\n"
     ]
    }
   ],
   "source": [
    "# Install mmcv\n",
    "!pip install mmcv-full\n",
    "\n",
    "# Install mmdetection\n",
    "!rm -rf mmdetection\n",
    "!git clone https://github.com/open-mmlab/mmdetection.git\n",
    "%cd mmdetection\n",
    "\n",
    "!pip install -e ."
   ]
  },
  {
   "cell_type": "code",
   "execution_count": 2,
   "metadata": {
    "colab": {
     "base_uri": "https://localhost:8080/"
    },
    "id": "8SupSgXQzswt",
    "outputId": "2e279fdf-2b86-443b-8e1e-1529e21103c9"
   },
   "outputs": [
    {
     "name": "stdout",
     "output_type": "stream",
     "text": [
      "Downloading...\n",
      "From: https://drive.google.com/u/1/uc?id=1lrKueI4HrySQDGvpkilQN9BfaMUN7hZi\n",
      "To: /home/ueidarchen/Homework 2/mmdetection/train.zip\n",
      "100%|█████████████████████████████████████████| 420M/420M [00:01<00:00, 240MB/s]\n"
     ]
    }
   ],
   "source": [
    "# Download the training data\n",
    "!gdown https://drive.google.com/u/1/uc?id=1lrKueI4HrySQDGvpkilQN9BfaMUN7hZi\n",
    "!unzip -q train.zip"
   ]
  },
  {
   "cell_type": "code",
   "execution_count": 3,
   "metadata": {
    "colab": {
     "base_uri": "https://localhost:8080/"
    },
    "id": "6hD0mmMixT0p",
    "outputId": "94a1aa81-5824-488e-de29-a6919fa75929"
   },
   "outputs": [
    {
     "name": "stdout",
     "output_type": "stream",
     "text": [
      "1.10.0+cu102 True\n",
      "2.18.1\n",
      "10.2\n",
      "GCC 7.3\n"
     ]
    }
   ],
   "source": [
    "# Check Pytorch installation\n",
    "import torch, torchvision\n",
    "print(torch.__version__, torch.cuda.is_available())\n",
    "\n",
    "# Check MMDetection installation\n",
    "import mmdet\n",
    "print(mmdet.__version__)\n",
    "\n",
    "# Check mmcv installation\n",
    "from mmcv.ops import get_compiling_cuda_version, get_compiler_version\n",
    "print(get_compiling_cuda_version())\n",
    "print(get_compiler_version())"
   ]
  },
  {
   "cell_type": "markdown",
   "metadata": {
    "id": "gi9zw03oM4CH"
   },
   "source": [
    "## Perform inference with a MMDet detector\n",
    "MMDetection already provides high level APIs to do inference and training."
   ]
  },
  {
   "cell_type": "code",
   "execution_count": 4,
   "metadata": {
    "id": "kP-3TdmUyv9R"
   },
   "outputs": [],
   "source": [
    "# Mat file preprocessing\n",
    "import h5py, json\n",
    "import numpy as np\n",
    "from PIL import Image\n",
    "\n",
    "DATA_DIR = 'train'\n",
    "\n",
    "mat = h5py.File(f'{DATA_DIR}/digitStruct.mat', 'r')\n",
    "bboxes = mat['digitStruct/bbox']\n",
    "names = mat['digitStruct/name']"
   ]
  },
  {
   "cell_type": "code",
   "execution_count": null,
   "metadata": {
    "id": "eH9eersJyv9R"
   },
   "outputs": [],
   "source": [
    "# Get dict list from mat file\n",
    "\n",
    "KEYS = ['label', 'left', 'top', 'width', 'height']\n",
    "ann_list = []\n",
    "\n",
    "for bbox, name in zip(bboxes, names):\n",
    "    filename = ''.join(chr(char[0]) for char in mat[name[0]][()])\n",
    "    img = Image.open(f'{DATA_DIR}/{filename}')\n",
    "    width, height = img.size\n",
    "    if mat[bbox[0]][KEYS[0]].shape[0] > 1:\n",
    "        attr = np.array([[mat[mat[bbox[0]][key][k][0]][0][0]\n",
    "                          for k in range(mat[bbox[0]][key].shape[0])]\n",
    "                             for key in KEYS]).T.astype(int)\n",
    "    else:\n",
    "        attr = np.array([mat[bbox[0]][key][0] for key in KEYS]).T.astype(int)\n",
    "    labels = (attr[:, 0] % 10).tolist()\n",
    "    bboxes_data = attr[:, 1:].tolist()\n",
    "    obj = dict(\n",
    "        filename = filename,\n",
    "        width = width,\n",
    "        height = height,\n",
    "        ann = dict(\n",
    "            bboxes = bboxes_data,\n",
    "            labels = labels\n",
    "        )\n",
    "    )\n",
    "    ann_list.append(obj)"
   ]
  },
  {
   "cell_type": "code",
   "execution_count": null,
   "metadata": {
    "id": "qsCahVVjyv9S"
   },
   "outputs": [],
   "source": [
    "# Export dict list to JSON\n",
    "\n",
    "import random, json\n",
    "\n",
    "DATA_SIZE = len(ann_list)\n",
    "TRAIN_RATIO = 0.7\n",
    "TRAIN_SIZE = int(DATA_SIZE * TRAIN_RATIO)\n",
    "VAL_SIZE = DATA_SIZE - TRAIN_SIZE\n",
    "\n",
    "img_all = [ann['filename'] for ann in ann_list]\n",
    "random.shuffle(img_all)\n",
    "img_train = set(img_all[: TRAIN_SIZE])\n",
    "img_val = set(img_all[TRAIN_SIZE: ])\n",
    "ann_train = [ann for ann in ann_list if ann['filename'] in img_train]\n",
    "ann_val = [ann for ann in ann_list if ann['filename'] in img_val]\n",
    "\n",
    "with open(f'{DATA_DIR}/ann_train.json', 'w') as f:\n",
    "    f.write(json.dumps(ann_train))\n",
    "with open(f'{DATA_DIR}/ann_val.json', 'w') as f:\n",
    "    f.write(json.dumps(ann_val))"
   ]
  },
  {
   "cell_type": "code",
   "execution_count": null,
   "metadata": {
    "id": "x23leyHEyv9S"
   },
   "outputs": [],
   "source": [
    "# Define and register custom dataset\n",
    "\n",
    "import os.path as osp\n",
    "import copy\n",
    "\n",
    "import mmcv\n",
    "import numpy as np\n",
    "\n",
    "from mmdet.datasets.builder import DATASETS\n",
    "from mmdet.datasets.custom import CustomDataset\n",
    "\n",
    "@DATASETS.register_module()\n",
    "class DigitDataset(CustomDataset):\n",
    "    CLASSES = tuple(str(i) for i in range(10))\n",
    "    def load_annotations(self, ann_file):\n",
    "        ann_list = mmcv.load(self.ann_file)\n",
    "        for i, a in enumerate(ann_list):\n",
    "            ann_list[i]['ann']['bboxes'] = np.array(\n",
    "                ann_list[i]['ann']['bboxes'], dtype=np.float32)\n",
    "            # (x, y, w, h) -> #(xmin, ymin, xmax, ymax)\n",
    "            ann_list[i]['ann']['bboxes'][:, 2:] += ann_list[i]['ann']['bboxes'][:, :2] - 1\n",
    "            ann_list[i]['ann']['labels'] = np.array(\n",
    "                ann_list[i]['ann']['labels'], dtype=np.long)\n",
    "        return ann_list"
   ]
  },
  {
   "cell_type": "code",
   "execution_count": null,
   "metadata": {
    "colab": {
     "base_uri": "https://localhost:8080/"
    },
    "id": "vxU8Q2MvFkgL",
    "outputId": "62f7e465-76e6-4b42-ac6b-584efb773f22"
   },
   "outputs": [],
   "source": [
    "# Download Pretrained weights\n",
    "!mkdir checkpoints\n",
    "!wget -c https://download.openmmlab.com/mmdetection/v2.0/faster_rcnn/faster_rcnn_r50_fpn_1x_coco/faster_rcnn_r50_fpn_1x_coco_20200130-047c8118.pth -O checkpoints/faster_rcnn.pth"
   ]
  },
  {
   "cell_type": "code",
   "execution_count": null,
   "metadata": {
    "colab": {
     "base_uri": "https://localhost:8080/"
    },
    "id": "hamZrlnH-YDD",
    "outputId": "53a92882-2dea-4faf-d985-ef7f14daecb6"
   },
   "outputs": [],
   "source": [
    "# Import Configuration File\n",
    "from mmcv import Config\n",
    "cfg = Config.fromfile('../config.py')\n",
    "print(cfg.pretty_text)"
   ]
  },
  {
   "cell_type": "code",
   "execution_count": null,
   "metadata": {
    "colab": {
     "base_uri": "https://localhost:8080/"
    },
    "id": "7WBWHu010PN3",
    "outputId": "7bcee05b-bbee-48cb-9979-cd78cfeea083"
   },
   "outputs": [],
   "source": [
    "from mmdet.datasets import build_dataset\n",
    "from mmdet.models import build_detector\n",
    "from mmdet.apis import train_detector\n",
    "\n",
    "# Build dataset\n",
    "datasets = [build_dataset(cfg.data.train)]\n",
    "\n",
    "# Build the detector\n",
    "model = build_detector(\n",
    "    cfg.model, train_cfg=cfg.get('train_cfg'), test_cfg=cfg.get('test_cfg'))\n",
    "# Add an attribute for visualization convenience\n",
    "model.CLASSES = datasets[0].CLASSES\n",
    "\n",
    "# Create work_dir\n",
    "mmcv.mkdir_or_exist(osp.abspath(cfg.work_dir))\n",
    "# Train detector\n",
    "train_detector(model, datasets, cfg, distributed=False, validate=True)"
   ]
  }
 ],
 "metadata": {
  "accelerator": "GPU",
  "colab": {
   "collapsed_sections": [
    "_vYQF5K2NqqI",
    "MfQ-yspZLuuI"
   ],
   "name": "0816035_HW2.ipynb",
   "provenance": []
  },
  "kernelspec": {
   "display_name": "Python 3 (ipykernel)",
   "language": "python",
   "name": "python3"
  },
  "language_info": {
   "codemirror_mode": {
    "name": "ipython",
    "version": 3
   },
   "file_extension": ".py",
   "mimetype": "text/x-python",
   "name": "python",
   "nbconvert_exporter": "python",
   "pygments_lexer": "ipython3",
   "version": "3.7.10"
  }
 },
 "nbformat": 4,
 "nbformat_minor": 1
}
