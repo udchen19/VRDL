{
 "cells": [
  {
   "cell_type": "code",
   "execution_count": 1,
   "id": "b77771ea",
   "metadata": {},
   "outputs": [
    {
     "name": "stdout",
     "output_type": "stream",
     "text": [
      "Downloading...\n",
      "From: https://drive.google.com/u/1/uc?id=1OscWY-JOtvUz-cIVk6UmZgFlHG7QoGu3\n",
      "To: /home/dchencgps/HW3/Detectron/model_final.pth\n",
      "100%|█████████████████████████████████████████| 351M/351M [00:01<00:00, 320MB/s]\n"
     ]
    }
   ],
   "source": [
    "# download the weights\n",
    "!gdown https://drive.google.com/u/1/uc?id=1OscWY-JOtvUz-cIVk6UmZgFlHG7QoGu3"
   ]
  },
  {
   "cell_type": "code",
   "execution_count": 2,
   "id": "16c90630",
   "metadata": {},
   "outputs": [],
   "source": [
    "import cv2, json\n",
    "from pycocotools import mask\n",
    "import matplotlib.pyplot as plt\n",
    "from numpy import asfortranarray\n",
    "from detectron2 import model_zoo\n",
    "from detectron2.config import get_cfg\n",
    "from detectron2.engine import DefaultPredictor"
   ]
  },
  {
   "cell_type": "code",
   "execution_count": 3,
   "id": "d4ff0fc8",
   "metadata": {},
   "outputs": [],
   "source": [
    "def custom_config(num_classes):\n",
    "    cfg = get_cfg()\n",
    "    cfg.merge_from_file(\n",
    "        model_zoo.get_config_file(\n",
    "            \"COCO-InstanceSegmentation/mask_rcnn_R_50_FPN_3x.yaml\"))\n",
    "    cfg.DATASETS.TRAIN = (\"train\",)\n",
    "    cfg.DATASETS.TEST = (\"val\", )\n",
    "    cfg.MODEL.WEIGHTS = \"model_final.pth\"\n",
    "    cfg.MODEL.ANCHOR_GENERATOR.SIZES = [[8], [16], [32], [64], [128]]\n",
    "    cfg.MODEL.ROI_HEADS.NMS_THRESH_TEST = 0.7\n",
    "    cfg.MODEL.ROI_HEADS.SCORE_THRESH_TEST = 0.5\n",
    "    cfg.SOLVER.BASE_LR = 1e-4\n",
    "    cfg.SOLVER.IMS_PER_BATCH = 1\n",
    "    cfg.SOLVER.MAX_ITER = 1000\n",
    "    cfg.TEST.DETECTIONS_PER_IMAGE = 2000\n",
    "    cfg.TEST.EVAL_PERIOD = 100\n",
    "    cfg.MODEL.ROI_HEADS.BATCH_SIZE_PER_IMAGE = 256\n",
    "    cfg.MODEL.ROI_HEADS.NUM_CLASSES = 1\n",
    "    cfg.MODEL.FPN.COARSEST_STRIDE = 256\n",
    "    cfg.MODEL.DEVICE='cpu'\n",
    "    \n",
    "    return cfg\n",
    "\n",
    "cfg = custom_config(1)"
   ]
  },
  {
   "cell_type": "code",
   "execution_count": 5,
   "id": "9c7a7fb6",
   "metadata": {},
   "outputs": [],
   "source": [
    "def prediction(cfg):\n",
    "    predictor = DefaultPredictor(cfg)\n",
    "    ans = []\n",
    "    with open('dataset/test_img_ids.json', 'r') as f:\n",
    "        test_json = json.load(f)\n",
    "    for img in test_json:\n",
    "        img_id = img['id']\n",
    "        file_name = img['file_name']\n",
    "        width = img['width']\n",
    "        height = img['height']\n",
    "        im = cv2.imread(f'dataset/test/{file_name}')\n",
    "        im_gray = cv2.cvtColor(im, cv2.COLOR_BGR2GRAY)\n",
    "        for k in range(3):\n",
    "            im[:, :, k] = im_gray\n",
    "        pred = predictor(im)['instances']\n",
    "        num_instances = len(pred.scores)\n",
    "        for i in range(num_instances):\n",
    "            x1, y1, x2, y2 = pred.pred_boxes[i].tensor.cpu().numpy()[0].tolist()\n",
    "            x, y, w, h = x1, y1, x2 - x1, y2 - y1\n",
    "            score = pred.scores[i]\n",
    "            pred_class = 1\n",
    "            pred_mask = asfortranarray(pred.pred_masks[i].cpu())\n",
    "            RLE = mask.encode(pred_mask)\n",
    "            RLE['counts'] = RLE['counts'].decode('ascii')\n",
    "            annot = dict(\n",
    "                image_id = img_id,\n",
    "                bbox = [x, y, w, h],\n",
    "                score = float(score),\n",
    "                category_id = 1,\n",
    "                segmentation = RLE\n",
    "            )\n",
    "            ans.append(annot)\n",
    "    \n",
    "    print(len(ans))\n",
    "    with open('answer.json', 'w') as f:\n",
    "        json.dump(ans, f)"
   ]
  },
  {
   "cell_type": "code",
   "execution_count": 6,
   "id": "70b8faee",
   "metadata": {
    "scrolled": false
   },
   "outputs": [
    {
     "name": "stderr",
     "output_type": "stream",
     "text": [
      "/opt/conda/lib/python3.7/site-packages/torch/functional.py:445: UserWarning: torch.meshgrid: in an upcoming release, it will be required to pass the indexing argument. (Triggered internally at  /opt/conda/conda-bld/pytorch_1634272178570/work/aten/src/ATen/native/TensorShape.cpp:2157.)\n",
      "  return _VF.meshgrid(tensors, **kwargs)  # type: ignore[attr-defined]\n"
     ]
    },
    {
     "name": "stdout",
     "output_type": "stream",
     "text": [
      "1204\n"
     ]
    }
   ],
   "source": [
    "prediction(cfg)"
   ]
  }
 ],
 "metadata": {
  "kernelspec": {
   "display_name": "Python 3",
   "language": "python",
   "name": "python3"
  },
  "language_info": {
   "codemirror_mode": {
    "name": "ipython",
    "version": 3
   },
   "file_extension": ".py",
   "mimetype": "text/x-python",
   "name": "python",
   "nbconvert_exporter": "python",
   "pygments_lexer": "ipython3",
   "version": "3.7.12"
  }
 },
 "nbformat": 4,
 "nbformat_minor": 5
}
